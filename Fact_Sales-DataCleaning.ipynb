{
 "cells": [
  {
   "cell_type": "code",
   "execution_count": 931,
   "id": "0af2e62f-c041-4861-af23-28a2bd783ee2",
   "metadata": {},
   "outputs": [],
   "source": [
    "# Data Quality Analysis and Cleaning Script\n",
    "# This script analyzes the MERU Data Insights Technical Assessment datasets,\n",
    "# identifies data quality issues, and applies appropriate cleaning steps"
   ]
  },
  {
   "cell_type": "code",
   "execution_count": 854,
   "id": "f44a719c-b319-40c6-a148-3e8da71c26c7",
   "metadata": {},
   "outputs": [],
   "source": [
    "import pandas as pd\n",
    "import numpy as np\n",
    "from datetime import datetime\n",
    "import re\n"
   ]
  },
  {
   "cell_type": "code",
   "execution_count": null,
   "id": "5da0318b-4c9d-4915-98b0-4b12d58a2fe6",
   "metadata": {},
   "outputs": [],
   "source": [
    "#Load Historical Sales Data "
   ]
  },
  {
   "cell_type": "code",
   "execution_count": 856,
   "id": "fbe71446-9f2f-4c1c-958f-a6946b8c3825",
   "metadata": {},
   "outputs": [
    {
     "name": "stdout",
     "output_type": "stream",
     "text": [
      "\n",
      "Loading Assignment-Historical Sales.xlsx...\n",
      "File loaded successfully: Assignment-Historical Sales.xlsx\n",
      "Dimensions: 17133 rows x 14 columns\n",
      "Columns: Unnamed: 0, Unnamed: 1, Unnamed: 2, Unnamed: 3, Unnamed: 4, Unnamed: 5, Unnamed: 6, Unnamed: 7, Unnamed: 8, Unnamed: 9, Unnamed: 10, Unnamed: 11, Unnamed: 12, Unnamed: 13\n",
      "\n",
      "Columns with missing values:\n",
      "  - Unnamed: 10: 4 missing values (0.02%)\n",
      "  - Unnamed: 11: 61 missing values (0.36%)\n",
      "\n",
      "Found 1 duplicate rows (0.01%)\n",
      "\n",
      "Sample of Historical Sales data:\n",
      "  Unnamed: 0 Unnamed: 1    Unnamed: 2     Unnamed: 3 Unnamed: 4  \\\n",
      "0      Month       Year      Combined  Business Line   ItemCode   \n",
      "1          1       2020  700002:15040     Business A      15040   \n",
      "2          1       2020  700007:15040     Business A      15040   \n",
      "\n",
      "      Unnamed: 5 Unnamed: 6 Unnamed: 7    Unnamed: 8  Unnamed: 9 Unnamed: 10  \\\n",
      "0  Customer code   Quantity  Total Amt       Channel  Item Group  Branded/PL   \n",
      "1         700002       3840    41241.6  Food Service    Crackers     Branded   \n",
      "2         700007       4800      56016  Food Service    Crackers     Branded   \n",
      "\n",
      "  Unnamed: 11 Unnamed: 12 Unnamed: 13  \n",
      "0      StateS  LBSperCase         Lbs  \n",
      "1          MA        4.69     18009.6  \n",
      "2          MI        4.69     22512.0  \n",
      "\n",
      "Data types of Historical Sales columns:\n",
      "Unnamed: 0     object\n",
      "Unnamed: 1     object\n",
      "Unnamed: 2     object\n",
      "Unnamed: 3     object\n",
      "Unnamed: 4     object\n",
      "Unnamed: 5     object\n",
      "Unnamed: 6     object\n",
      "Unnamed: 7     object\n",
      "Unnamed: 8     object\n",
      "Unnamed: 9     object\n",
      "Unnamed: 10    object\n",
      "Unnamed: 11    object\n",
      "Unnamed: 12    object\n",
      "Unnamed: 13    object\n",
      "dtype: object\n",
      "\n",
      "Loading Assignment-CaseWeights.xlsx...\n",
      "File loaded successfully: Assignment-CaseWeights.xlsx\n",
      "Dimensions: 397 rows x 2 columns\n",
      "Columns: Unnamed: 0, Unnamed: 1\n",
      "\n",
      "Columns with missing values:\n",
      "  - Unnamed: 0: 1 missing values (0.25%)\n",
      "  - Unnamed: 1: 1 missing values (0.25%)\n",
      "\n",
      "No duplicate rows found.\n",
      "\n",
      "Sample of Case Weights data:\n",
      "  Unnamed: 0        Unnamed: 1\n",
      "0        NaN               NaN\n",
      "1   Item No.  Case Weight (lb)\n",
      "2        410                 2\n",
      "\n",
      "Data types of Case Weights columns:\n",
      "Unnamed: 0    object\n",
      "Unnamed: 1    object\n",
      "dtype: object\n",
      "\n",
      "First 5 rows of Budget data (without headers):\n",
      "   0              1          2         3        4           5           6   \\\n",
      "0 NaN            NaN        NaN       NaN      NaN         NaN         NaN   \n",
      "1 NaN            NaN        NaN       NaN      NaN         NaN         NaN   \n",
      "2 NaN            NaN        NaN       NaN      NaN         NaN         NaN   \n",
      "3 NaN            NaN        NaN       NaN      NaN         NaN         NaN   \n",
      "4 NaN  Customer Code  Item Code  Business  Channel  Branded/PL  Item Group   \n",
      "\n",
      "        7        8        9   ...       23       24       25       26  \\\n",
      "0      NaN      NaN      NaN  ...      NaN      NaN      NaN      NaN   \n",
      "1      NaN      NaN      NaN  ...      NaN      NaN      NaN      NaN   \n",
      "2     2021      NaN      NaN  ...      NaN      NaN      NaN      NaN   \n",
      "3    Cases      NaN      NaN  ...      NaN      NaN      NaN      NaN   \n",
      "4  Jan '21  Feb '21  Mar '21  ...  Apr '21  May '21  Jun '21  Jul '21   \n",
      "\n",
      "        27       28       29       30       31   32  \n",
      "0      NaN      NaN      NaN      NaN      NaN  NaN  \n",
      "1      NaN      NaN      NaN      NaN      NaN  NaN  \n",
      "2      NaN      NaN      NaN      NaN      NaN  NaN  \n",
      "3      NaN      NaN      NaN      NaN      NaN  NaN  \n",
      "4  Aug '21  Sep '21  Oct '21  Nov '21  Dec '21    x  \n",
      "\n",
      "[5 rows x 33 columns]\n",
      "\n",
      "Loading AssignmentBudget.xlsx...\n",
      "ERROR loading Budget data: [Errno 2] No such file or directory: 'AssignmentBudget.xlsx'\n"
     ]
    }
   ],
   "source": [
    "\n",
    "try:\n",
    "    historical_sales = load_and_inspect_dataset(\"Assignment-Historical Sales.xlsx\", sheet_name=\"Data\")\n",
    "    \n",
    "    # Sample the data\n",
    "    print(\"\\nSample of Historical Sales data:\")\n",
    "    print(historical_sales.head(3))\n",
    "    \n",
    "    # Check data types\n",
    "    print(\"\\nData types of Historical Sales columns:\")\n",
    "    print(historical_sales.dtypes)\n",
    "    \n",
    "except Exception as e:\n",
    "    print(f\"ERROR loading Historical Sales data: {e}\")\n",
    "    historical_sales = pd.DataFrame()\n",
    "\n",
    "# ----- Load Case Weights Data -----\n",
    "try:\n",
    "    case_weights = load_and_inspect_dataset(\"Assignment-CaseWeights.xlsx\", sheet_name=\"Net Wt\")\n",
    "    \n",
    "    # Sample the data\n",
    "    print(\"\\nSample of Case Weights data:\")\n",
    "    print(case_weights.head(3))\n",
    "    \n",
    "    # Check data types\n",
    "    print(\"\\nData types of Case Weights columns:\")\n",
    "    print(case_weights.dtypes)\n",
    "    \n",
    "except Exception as e:\n",
    "    print(f\"ERROR loading Case Weights data: {e}\")\n",
    "    case_weights = pd.DataFrame()\n",
    "\n",
    "# ----- Load Budget Data -----\n",
    "# The budget file has a non-standard header structure, so we'll first examine it without headers\n",
    "try:\n",
    "    budget_raw = pd.read_excel(\"Assignment-Budget.xlsx\", sheet_name=\"Data\", header=None)\n",
    "    \n",
    "    # Print the first few rows to identify the header row\n",
    "    print(\"\\nFirst 5 rows of Budget data (without headers):\")\n",
    "    print(budget_raw.head(5))\n",
    "    \n",
    "    # Based on visual inspection, row 4 appears to be the header row\n",
    "    header_row = 4\n",
    "    budget = load_and_inspect_dataset(\"AssignmentBudget.xlsx\", sheet_name=\"Data\", header_row=header_row)\n",
    "    \n",
    "    # Sample the data\n",
    "    print(\"\\nSample of Budget data after setting header row:\")\n",
    "    print(budget.head(3))\n",
    "    \n",
    "except Exception as e:\n",
    "    print(f\"ERROR loading Budget data: {e}\")\n",
    "    budget_raw = pd.DataFrame()\n",
    "    budget = pd.DataFrame()\n",
    "\n"
   ]
  },
  {
   "cell_type": "code",
   "execution_count": 857,
   "id": "9f197085-a9e2-458f-b581-47f79397e246",
   "metadata": {},
   "outputs": [],
   "source": [
    "# Standardize column names: Remove extra spaces and drop any extraneous header rows if necessary.\n",
    "historical_sales.columns = historical_sales.columns.str.strip()\n",
    "# If the very first row contains column names, ensure to drop it if it’s duplicated:\n",
    "historical_sales = historical_sales.iloc[1:].reset_index(drop=True)\n",
    "historical_sales = historical_sales.drop_duplicates()"
   ]
  },
  {
   "cell_type": "code",
   "execution_count": 933,
   "id": "18dcc353-ba2c-4055-a4b7-c0f95658ded6",
   "metadata": {},
   "outputs": [],
   "source": [
    "#historical_sales.head()"
   ]
  },
  {
   "cell_type": "code",
   "execution_count": 932,
   "id": "fdc5631e-0f39-4c93-8c84-01802aa84d24",
   "metadata": {},
   "outputs": [],
   "source": [
    "#historical_sales.shape"
   ]
  },
  {
   "cell_type": "code",
   "execution_count": 860,
   "id": "1f52846b-2ac3-451e-9369-161720138ccf",
   "metadata": {},
   "outputs": [],
   "source": [
    "# Rename columns to standard names\n",
    "historical_sales.columns = [\n",
    "    \"Month\", \"Year\", \"CombinedCode\", \"Business\", \"ProductCode\", \n",
    "    \"CustomerCode\", \"Boxes\", \"Revenue\", \"Channel\", \"ProductGroup\", \n",
    "    \"ProductCategory\", \"State\", \"WeightPerBox\", \"TotalWeight\"\n",
    "]"
   ]
  },
  {
   "cell_type": "code",
   "execution_count": 861,
   "id": "7807397f-471c-42d7-ae3f-57c885f8bd46",
   "metadata": {},
   "outputs": [
    {
     "name": "stdout",
     "output_type": "stream",
     "text": [
      "Remaining columns in Fact_Sales: Index(['Month', 'Year', 'Business', 'ProductCode', 'CustomerCode', 'Boxes',\n",
      "       'Revenue', 'Channel', 'ProductGroup', 'ProductCategory', 'State',\n",
      "       'WeightPerBox', 'TotalWeight'],\n",
      "      dtype='object')\n"
     ]
    }
   ],
   "source": [
    "#Dropping combined code and re ordering the columns\n",
    "# Drop the \"CombinedCode\" column from the sales table if it exists\n",
    "if \"CombinedCode\" in historical_sales.columns:\n",
    "    historical_sales.drop(columns=[\"CombinedCode\"], inplace=True)\n",
    "\n",
    "# Verify the column is removed\n",
    "print(\"Remaining columns in Fact_Sales:\", historical_sales.columns)\n"
   ]
  },
  {
   "cell_type": "code",
   "execution_count": 862,
   "id": "9259fd25-66c1-40d2-af60-628afb0b7f41",
   "metadata": {},
   "outputs": [
    {
     "name": "stdout",
     "output_type": "stream",
     "text": [
      "   Year Month    Business       Channel CustomerCode State ProductCode  \\\n",
      "0  2020     1  Business A  Food Service       700002    MA       15040   \n",
      "1  2020     1  Business A  Food Service       700007    MI       15040   \n",
      "2  2020     1  Business A  Food Service       700052    NY       15040   \n",
      "3  2020     1  Business A  Food Service       700062    NH       10041   \n",
      "4  2020     1  Business A  Food Service       700062    NH       15040   \n",
      "\n",
      "  ProductCategory ProductGroup Boxes WeightPerBox TotalWeight    Revenue  \n",
      "0         Branded     Crackers  3840         4.69     18009.6    41241.6  \n",
      "1         Branded     Crackers  4800         4.69     22512.0      56016  \n",
      "2         Branded     Crackers  3072         4.69    14407.68   35850.24  \n",
      "3         Branded     Crackers    80           10         800       1632  \n",
      "4         Branded     Crackers  9792         4.69    45924.48  124162.56  \n"
     ]
    }
   ],
   "source": [
    "# Define the new column order\n",
    "new_column_order = [\n",
    "    \"Year\", \"Month\", \"Business\", \"Channel\",\"CustomerCode\",\"State\",\"ProductCode\",\n",
    "    \"ProductCategory\", \"ProductGroup\",\"Boxes\",\"WeightPerBox\",\"TotalWeight\", \"Revenue\"]\n",
    "\n",
    "# Reorder the columns\n",
    "historical_sales = historical_sales[new_column_order]\n",
    "\n",
    "# Verify the new order\n",
    "print(historical_sales.head())\n"
   ]
  },
  {
   "cell_type": "code",
   "execution_count": 863,
   "id": "d5808b56-a6c6-4043-8ae2-4d51e18a1d16",
   "metadata": {},
   "outputs": [
    {
     "name": "stdout",
     "output_type": "stream",
     "text": [
      "Year                0\n",
      "Month               0\n",
      "Business            0\n",
      "Channel             0\n",
      "CustomerCode        0\n",
      "State              61\n",
      "ProductCode         0\n",
      "ProductCategory     4\n",
      "ProductGroup        0\n",
      "Boxes               0\n",
      "WeightPerBox        0\n",
      "TotalWeight         0\n",
      "Revenue             0\n",
      "dtype: int64\n"
     ]
    }
   ],
   "source": [
    "missing_before = historical_sales.isna().sum()\n",
    "print(missing_before)"
   ]
  },
  {
   "cell_type": "code",
   "execution_count": 864,
   "id": "be2d8c67-4de8-4077-84fb-e93e456e0fb0",
   "metadata": {},
   "outputs": [
    {
     "name": "stdout",
     "output_type": "stream",
     "text": [
      "Year               object\n",
      "Month              object\n",
      "Business           object\n",
      "Channel            object\n",
      "CustomerCode       object\n",
      "State              object\n",
      "ProductCode        object\n",
      "ProductCategory    object\n",
      "ProductGroup       object\n",
      "Boxes              object\n",
      "WeightPerBox       object\n",
      "TotalWeight        object\n",
      "Revenue            object\n",
      "dtype: object\n"
     ]
    }
   ],
   "source": [
    "print(historical_sales.dtypes)"
   ]
  },
  {
   "cell_type": "code",
   "execution_count": 865,
   "id": "6d4ac3f8-3744-4641-89f7-ef653558e49d",
   "metadata": {},
   "outputs": [
    {
     "name": "stdout",
     "output_type": "stream",
     "text": [
      "\n",
      "Data types after conversion:\n",
      "Year                  int16\n",
      "Month                  int8\n",
      "Business           category\n",
      "Channel            category\n",
      "CustomerCode       category\n",
      "State                object\n",
      "ProductCode        category\n",
      "ProductCategory    category\n",
      "ProductGroup       category\n",
      "Boxes                 int32\n",
      "WeightPerBox        float32\n",
      "TotalWeight         float32\n",
      "Revenue             float32\n",
      "dtype: object\n",
      "Zero count in Boxes: 2919\n",
      "Zero count in Revenue: 2899\n"
     ]
    },
    {
     "name": "stderr",
     "output_type": "stream",
     "text": [
      "/var/folders/r8/nhc1hq510sgf0m_19lwsv4qh0000gn/T/ipykernel_35897/825477433.py:32: FutureWarning: Downcasting object dtype arrays on .fillna, .ffill, .bfill is deprecated and will change in a future version. Call result.infer_objects(copy=False) instead. To opt-in to the future behavior, set `pd.set_option('future.no_silent_downcasting', True)`\n",
      "  historical_sales[column] = historical_sales[column].fillna(0).astype(dtype)\n",
      "/var/folders/r8/nhc1hq510sgf0m_19lwsv4qh0000gn/T/ipykernel_35897/825477433.py:32: FutureWarning: Downcasting object dtype arrays on .fillna, .ffill, .bfill is deprecated and will change in a future version. Call result.infer_objects(copy=False) instead. To opt-in to the future behavior, set `pd.set_option('future.no_silent_downcasting', True)`\n",
      "  historical_sales[column] = historical_sales[column].fillna(0).astype(dtype)\n"
     ]
    }
   ],
   "source": [
    "# Define optimal data types for each column\n",
    "data_type_mapping = {\n",
    "    \"CustomerCode\": \"category\",  # Categorical data (reduces memory usage)\n",
    "    \"ProductCode\": \"category\",      # Categorical data\n",
    "    \"Business\": \"category\",      # Business line\n",
    "    \"ProductGroup\": \"category\",     # Product grouping\n",
    "    \"Boxes\": \"int32\",         # Integer values for units sold\n",
    "    \"Revenue\": \"float32\",       # Monetary values as float         \n",
    "    \"Channel\": \"category\",       # Sales channel (Retail, Foodservice, etc.)\n",
    "    \"ProductCategory\": \"category\", # Branded vs. Private Label\n",
    "    \"TotalWeight\": \"float32\",    # Float for calculated total weight\n",
    "    \"WeightPerBox\": \"float32\",  # Product weight per case\n",
    "    \"Month\": \"int8\",             # Small integer (1-12)\n",
    "    \"Year\": \"int16\",             # Small integer for years (1900-2100)\n",
    "    \"TransactionType\": \"category\" # Transaction type classification\n",
    "}\n",
    "\n",
    "# Apply data type conversions\n",
    "try:\n",
    "    \n",
    "    # Handle zeros before conversion - important to avoid the 1000+ issue\n",
    "    for col in ['Boxes', 'Revenue']:\n",
    "        # Keep track of zero values\n",
    "        zero_mask = historical_sales[col] == 0\n",
    "        \n",
    "    # Apply optimized data types\n",
    "    for column, dtype in data_type_mapping.items():\n",
    "        if column in historical_sales.columns:\n",
    "            # For numeric columns, handle NaN values first\n",
    "            if dtype in ['int8', 'int16', 'int32', 'int64']:\n",
    "                # Convert to float first, then to integer to handle NaN values\n",
    "                historical_sales[column] = historical_sales[column].fillna(0).astype(dtype)\n",
    "            else:\n",
    "                historical_sales[column] = historical_sales[column].astype(dtype)\n",
    "    \n",
    "    # Restore zeros that might have been affected\n",
    "    for col in ['Boxes', 'Revenue']:\n",
    "        historical_sales.loc[zero_mask, col] = 0\n",
    "    \n",
    "    # Verify the conversion worked correctly\n",
    "    print(\"\\nData types after conversion:\")\n",
    "    print(historical_sales.dtypes)\n",
    "    \n",
    "    # Verify zero counts are preserved\n",
    "    for col in ['Boxes', 'Revenue']:\n",
    "        zero_count = (historical_sales[col] == 0).sum()\n",
    "        print(f\"Zero count in {col}: {zero_count}\")\n",
    "\n",
    "except Exception as e:\n",
    "    print(f\"Error during data type conversion: {e}\")"
   ]
  },
  {
   "cell_type": "code",
   "execution_count": 866,
   "id": "0dbba43a-8cc8-4f6c-b1ae-10f0d53c3b40",
   "metadata": {},
   "outputs": [
    {
     "name": "stdout",
     "output_type": "stream",
     "text": [
      "Year                  int16\n",
      "Month                  int8\n",
      "Business           category\n",
      "Channel            category\n",
      "CustomerCode       category\n",
      "State                object\n",
      "ProductCode        category\n",
      "ProductCategory    category\n",
      "ProductGroup       category\n",
      "Boxes                 int32\n",
      "WeightPerBox        float32\n",
      "TotalWeight         float32\n",
      "Revenue             float32\n",
      "dtype: object\n"
     ]
    }
   ],
   "source": [
    "# Verify updated data types\n",
    "print(historical_sales.dtypes)"
   ]
  },
  {
   "cell_type": "code",
   "execution_count": 867,
   "id": "23ba1ffa-9124-419b-aa14-62d572e15017",
   "metadata": {},
   "outputs": [],
   "source": [
    "#So in terms of missing values - We have ProductCategory and State; "
   ]
  },
  {
   "cell_type": "code",
   "execution_count": 868,
   "id": "71371b80-3a57-4f7d-94e7-7a6110060aaa",
   "metadata": {},
   "outputs": [],
   "source": [
    "#Filling missing state values"
   ]
  },
  {
   "cell_type": "code",
   "execution_count": 869,
   "id": "f1cc458d-00b9-4447-b4a1-b31c80f8e0ab",
   "metadata": {},
   "outputs": [
    {
     "name": "stdout",
     "output_type": "stream",
     "text": [
      "Remaining missing State values: 0\n"
     ]
    },
    {
     "name": "stderr",
     "output_type": "stream",
     "text": [
      "/var/folders/r8/nhc1hq510sgf0m_19lwsv4qh0000gn/T/ipykernel_35897/3651363465.py:5: FutureWarning: The default of observed=False is deprecated and will be changed to True in a future version of pandas. Pass observed=False to retain current behavior or observed=True to adopt the future default and silence this warning.\n",
      "  historical_sales[\"State\"] = historical_sales.groupby(\"CustomerCode\")[\"State\"].transform(\n",
      "/var/folders/r8/nhc1hq510sgf0m_19lwsv4qh0000gn/T/ipykernel_35897/3651363465.py:10: FutureWarning: A value is trying to be set on a copy of a DataFrame or Series through chained assignment using an inplace method.\n",
      "The behavior will change in pandas 3.0. This inplace method will never work because the intermediate object on which we are setting values always behaves as a copy.\n",
      "\n",
      "For example, when doing 'df[col].method(value, inplace=True)', try using 'df.method({col: value}, inplace=True)' or df[col] = df[col].method(value) instead, to perform the operation inplace on the original object.\n",
      "\n",
      "\n",
      "  historical_sales[\"State\"].fillna(\"Unknown\", inplace=True)\n"
     ]
    }
   ],
   "source": [
    "# Step 1: Identify missing State values\n",
    "missing_state_mask = historical_sales[\"State\"].isnull()\n",
    "\n",
    "# Step 2: Fill missing State with the most common State for the same CustomerCode\n",
    "historical_sales[\"State\"] = historical_sales.groupby(\"CustomerCode\")[\"State\"].transform(\n",
    "    lambda x: x.fillna(x.mode()[0]) if not x.mode().empty else x\n",
    ")\n",
    "\n",
    "# Step 3: If a State is still missing, fill with \"Unknown\"\n",
    "historical_sales[\"State\"].fillna(\"Unknown\", inplace=True)\n",
    "\n",
    "# Verify if all missing values are handled\n",
    "print(f\"Remaining missing State values: {historical_sales['State'].isnull().sum()}\")\n"
   ]
  },
  {
   "cell_type": "code",
   "execution_count": 934,
   "id": "888df34d-d06b-4766-97e3-615ee585eaa4",
   "metadata": {},
   "outputs": [],
   "source": [
    "# Data type conversions"
   ]
  },
  {
   "cell_type": "code",
   "execution_count": 871,
   "id": "f4a1400e-efc4-41a3-96f2-9fb874f6ceba",
   "metadata": {},
   "outputs": [
    {
     "name": "stdout",
     "output_type": "stream",
     "text": [
      "Empty DataFrame\n",
      "Columns: [Year, Month, Business, Channel, CustomerCode, State, ProductCode, ProductCategory, ProductGroup, Boxes, WeightPerBox, TotalWeight, Revenue]\n",
      "Index: []\n"
     ]
    }
   ],
   "source": [
    "print(historical_sales[historical_sales[\"State\"].isnull()])\n",
    "#Interesting to note that if I removed all these rows, I;ll lose the rows where there has been a sale. \n"
   ]
  },
  {
   "cell_type": "code",
   "execution_count": 872,
   "id": "06a26b4b-5789-40c1-a49d-fdebed074eca",
   "metadata": {},
   "outputs": [
    {
     "name": "stdout",
     "output_type": "stream",
     "text": [
      "Negative Qty records: 6\n",
      "Zero Qty with nonzero Amt records: 20\n",
      "Zero Qty & Zero Amt records: 2899\n"
     ]
    }
   ],
   "source": [
    "\n",
    "# Identify problematic records:\n",
    "# Negative Quantity\n",
    "neg_qty = historical_sales[historical_sales[\"Boxes\"] < 0]\n",
    "# Zero Quantity with Nonzero TotalAmt\n",
    "zero_qty_nonzero_amt = historical_sales[(historical_sales[\"Boxes\"] == 0) & (historical_sales[\"Revenue\"] > 0)]\n",
    "# Zero Quantity with Zero TotalAmt (canceled orders, test entries)\n",
    "zero_qty_zero_amt = historical_sales[(historical_sales[\"Boxes\"] == 0) & (historical_sales[\"Revenue\"] == 0)]\n",
    "\n",
    "print(\"Negative Qty records:\", len(neg_qty))\n",
    "print(\"Zero Qty with nonzero Amt records:\", len(zero_qty_nonzero_amt))\n",
    "print(\"Zero Qty & Zero Amt records:\", len(zero_qty_zero_amt))"
   ]
  },
  {
   "cell_type": "code",
   "execution_count": 873,
   "id": "455dda4e-551a-4379-b56a-0daafa2f523e",
   "metadata": {},
   "outputs": [
    {
     "name": "stdout",
     "output_type": "stream",
     "text": [
      "Negative Quantity Count: 0\n"
     ]
    }
   ],
   "source": [
    "# Remove rows where Quantity is negative\n",
    "historical_sales = historical_sales[historical_sales[\"Boxes\"] >= 0]\n",
    "\n",
    "# Verify if negative quantities were removed\n",
    "print(\"Negative Quantity Count:\", (historical_sales[\"Boxes\"] < 0).sum())\n"
   ]
  },
  {
   "cell_type": "code",
   "execution_count": 874,
   "id": "5f039625-0c6c-453a-9e94-98ff0308875e",
   "metadata": {},
   "outputs": [],
   "source": [
    "# Flag cases where Quantity = 0 and TotalAmt > 0\n",
    "historical_sales[\"TransactionType\"] = historical_sales.apply(\n",
    "    lambda row: \"Service Charge/Adjustment\" if (row[\"Boxes\"] == 0 and row[\"Revenue\"] > 0) else \"Normal Sale\", axis=1\n",
    ")\n",
    "\n",
    "# Verify the flagged cases\n",
    "flagged_cases = historical_sales[historical_sales[\"TransactionType\"] == \"Service Charge/Adjustment\"]\n",
    "\n"
   ]
  },
  {
   "cell_type": "code",
   "execution_count": 876,
   "id": "2f637975-3183-4256-b391-27706811499e",
   "metadata": {},
   "outputs": [
    {
     "name": "stdout",
     "output_type": "stream",
     "text": [
      "       Year  Month    Business       Channel CustomerCode State ProductCode  \\\n",
      "10472  2018      1  Business B  Food Service       760261    MI       97101   \n",
      "10476  2018      1  Business B  Food Service       760261    MI       97102   \n",
      "10480  2018      1  Business B  Food Service       760261    MI       97103   \n",
      "10483  2018      1  Business B  Food Service       760261    MI       97128   \n",
      "10492  2018      1  Business B  Food Service       760261    MI       97501   \n",
      "13310  2018      6  Business B        Retail       760215    IA       97254   \n",
      "13311  2018      6  Business B        Retail       760215    IA       97501   \n",
      "13312  2018      6  Business B        Retail       760215    IA       97519   \n",
      "13313  2018      6  Business B        Retail       760215    IA       97524   \n",
      "13314  2018      6  Business B        Retail       760215    IA       97526   \n",
      "13568  2018      6  Business B  Food Service       793067    MN       97100   \n",
      "13571  2018      6  Business B  Food Service       793067    MN       97103   \n",
      "14081  2018      7  Business B  Food Service       793067    MN       97101   \n",
      "14088  2018      7  Business B  Food Service       793067    MN       97501   \n",
      "14089  2018      7  Business B  Food Service       793067    MN       97519   \n",
      "16180  2018     11  Business B  Food Service       760261    CA       97100   \n",
      "16183  2018     11  Business B  Food Service       760261    CA       97101   \n",
      "16216  2018     11  Business B  Food Service       760261    CA       97524   \n",
      "16225  2018     11  Business B  Food Service       760261    CA       97567   \n",
      "16229  2018     11  Business B  Food Service       760261    CA       97568   \n",
      "\n",
      "      ProductCategory ProductGroup  Boxes  WeightPerBox  TotalWeight  \\\n",
      "10472         Branded      Muffins      0          2.75        1.375   \n",
      "10476         Branded      Muffins      0          2.75        1.375   \n",
      "10480         Branded      Muffins      0          2.75        1.375   \n",
      "10483         Branded      Muffins      0          2.75        1.375   \n",
      "10492         Branded      Muffins      0          2.75        1.375   \n",
      "13310         Branded      Muffins      0          3.15        0.000   \n",
      "13311         Branded      Muffins      0          2.75        0.000   \n",
      "13312         Branded      Muffins      0          0.00        0.000   \n",
      "13313         Branded       Crisps      0          2.25        0.000   \n",
      "13314         Branded       Crisps      0          1.88        0.000   \n",
      "13568         Branded      Muffins      0          2.75        0.000   \n",
      "13571         Branded      Muffins      0          2.75        0.000   \n",
      "14081         Branded      Muffins      0          2.75        0.000   \n",
      "14088         Branded      Muffins      0          2.75        0.000   \n",
      "14089         Branded      Muffins      0          0.00        0.000   \n",
      "16180         Branded      Muffins      0          2.75        2.090   \n",
      "16183         Branded      Muffins      0          2.75        2.090   \n",
      "16216         Branded       Crisps      0          2.25        1.710   \n",
      "16225         Branded       Crisps      0          2.25        1.710   \n",
      "16229         Branded       Crisps      0          2.25        1.710   \n",
      "\n",
      "          Revenue            TransactionType  \n",
      "10472    8.400000  Service Charge/Adjustment  \n",
      "10476    8.400000  Service Charge/Adjustment  \n",
      "10480    8.400000  Service Charge/Adjustment  \n",
      "10483    8.400000  Service Charge/Adjustment  \n",
      "10492    8.400000  Service Charge/Adjustment  \n",
      "13310  623.520020  Service Charge/Adjustment  \n",
      "13311  998.000000  Service Charge/Adjustment  \n",
      "13312  998.000000  Service Charge/Adjustment  \n",
      "13313  479.040009  Service Charge/Adjustment  \n",
      "13314  458.880005  Service Charge/Adjustment  \n",
      "13568  371.200012  Service Charge/Adjustment  \n",
      "13571  185.600006  Service Charge/Adjustment  \n",
      "14081  185.600006  Service Charge/Adjustment  \n",
      "14088   46.400002  Service Charge/Adjustment  \n",
      "14089   69.599998  Service Charge/Adjustment  \n",
      "16180    8.400000  Service Charge/Adjustment  \n",
      "16183    8.400000  Service Charge/Adjustment  \n",
      "16216    8.400000  Service Charge/Adjustment  \n",
      "16225    8.400000  Service Charge/Adjustment  \n",
      "16229    8.400000  Service Charge/Adjustment  \n",
      "Number of flagged transactions: 20\n"
     ]
    }
   ],
   "source": [
    "print(flagged_cases)\n",
    "# Count the number of flagged transactions\n",
    "flagged_count = (historical_sales[\"TransactionType\"] == \"Service Charge/Adjustment\").sum()\n",
    "print(f\"Number of flagged transactions: {flagged_count}\")\n",
    "\n"
   ]
  },
  {
   "cell_type": "code",
   "execution_count": 877,
   "id": "c060ddd2-e189-42f0-ab26-e16ff1bc7274",
   "metadata": {},
   "outputs": [],
   "source": [
    "#I am also removing cases where qty and amount are both 0 - mostly invalid transactions"
   ]
  },
  {
   "cell_type": "code",
   "execution_count": 878,
   "id": "9326b31e-fb3a-4b47-a3b9-8e05cbcf3cb0",
   "metadata": {},
   "outputs": [],
   "source": [
    "# Step 6: Remove Zero Quantity & Zero Amount Transactions (Likely Invalid Records)\n",
    "historical_sales = historical_sales[~((historical_sales[\"Boxes\"] == 0) & (historical_sales[\"Revenue\"] == 0))]\n"
   ]
  },
  {
   "cell_type": "code",
   "execution_count": 879,
   "id": "239937e6-f900-4094-b4eb-83b189992a8a",
   "metadata": {},
   "outputs": [],
   "source": [
    "#I have so far handled all the data inconsisencies."
   ]
  },
  {
   "cell_type": "code",
   "execution_count": 880,
   "id": "a989c54c-0a7c-4019-879f-a195e8bf984f",
   "metadata": {},
   "outputs": [
    {
     "name": "stdout",
     "output_type": "stream",
     "text": [
      "Total records: 14226\n"
     ]
    }
   ],
   "source": [
    "print(\"Total records:\", len(historical_sales))"
   ]
  },
  {
   "cell_type": "code",
   "execution_count": 885,
   "id": "0f3a4dc2-bdd9-422a-ae51-9e819ee40fd0",
   "metadata": {},
   "outputs": [],
   "source": [
    "#historical_sales.head()"
   ]
  },
  {
   "cell_type": "code",
   "execution_count": 886,
   "id": "97645cdf-e932-4183-9ee7-f4fb075df228",
   "metadata": {},
   "outputs": [
    {
     "name": "stderr",
     "output_type": "stream",
     "text": [
      "/var/folders/r8/nhc1hq510sgf0m_19lwsv4qh0000gn/T/ipykernel_35897/3250674973.py:7: FutureWarning: The behavior of Series.replace (and DataFrame.replace) with CategoricalDtype is deprecated. In a future version, replace will only be used for cases that preserve the categories. To change the categories, use ser.cat.rename_categories instead.\n",
      "  historical_sales[\"Channel\"] = historical_sales[\"Channel\"].replace(channel_mapping)\n"
     ]
    }
   ],
   "source": [
    "# Standardizing Channel Values\n",
    "channel_mapping = {\n",
    "    \"Distributor\": \"Food Service\",\n",
    "    \"Retail Private Label\": \"Retail\"\n",
    "}\n",
    "\n",
    "historical_sales[\"Channel\"] = historical_sales[\"Channel\"].replace(channel_mapping)\n"
   ]
  },
  {
   "cell_type": "code",
   "execution_count": 887,
   "id": "52001ff9-4793-4232-a07f-d99ae9830ee8",
   "metadata": {},
   "outputs": [
    {
     "name": "stdout",
     "output_type": "stream",
     "text": [
      "['Food Service', 'Retail']\n",
      "Categories (2, object): ['Food Service', 'Retail']\n"
     ]
    }
   ],
   "source": [
    "print(historical_sales[\"Channel\"].unique())\n"
   ]
  },
  {
   "cell_type": "code",
   "execution_count": 888,
   "id": "be8768d4-e532-41ff-80c1-917e2bc6d68e",
   "metadata": {},
   "outputs": [
    {
     "data": {
      "text/plain": [
       "(14226, 14)"
      ]
     },
     "execution_count": 888,
     "metadata": {},
     "output_type": "execute_result"
    }
   ],
   "source": [
    "historical_sales.shape"
   ]
  },
  {
   "cell_type": "code",
   "execution_count": 889,
   "id": "de491f8d-f960-4653-8a05-d99596bedf47",
   "metadata": {},
   "outputs": [],
   "source": [
    "historical_sales.to_csv(\"historical_sales_final.csv\", index=False)\n"
   ]
  },
  {
   "cell_type": "code",
   "execution_count": 890,
   "id": "bb3622ff-e446-4f95-80e3-3c23b24ebf16",
   "metadata": {},
   "outputs": [],
   "source": [
    "#There are cases where weight per case is 0\n",
    "#There are cases where qty is now 0 but some sale amount is there - this includes the special cases and just one customer id "
   ]
  },
  {
   "cell_type": "code",
   "execution_count": 891,
   "id": "e5607189-b482-4324-81e7-3a7e1f8eb2ae",
   "metadata": {},
   "outputs": [],
   "source": [
    "#Moving on to handling case weights\n"
   ]
  },
  {
   "cell_type": "code",
   "execution_count": 892,
   "id": "50766efc-4cb6-416a-a715-1c4c05f7ca53",
   "metadata": {},
   "outputs": [],
   "source": [
    "case_weights = pd.read_excel(\"Assignment-CaseWeights.xlsx\", sheet_name=\"Net Wt\")"
   ]
  },
  {
   "cell_type": "code",
   "execution_count": 893,
   "id": "8f76f5e4-e6ef-412c-a0a5-0f5c84cacd16",
   "metadata": {},
   "outputs": [
    {
     "data": {
      "text/plain": [
       "(397, 2)"
      ]
     },
     "execution_count": 893,
     "metadata": {},
     "output_type": "execute_result"
    }
   ],
   "source": [
    "case_weights.shape"
   ]
  },
  {
   "cell_type": "code",
   "execution_count": 894,
   "id": "cee692c7-b785-451a-81c2-2a8ad396001e",
   "metadata": {},
   "outputs": [
    {
     "data": {
      "text/plain": [
       "<bound method NDFrame.describe of     Unnamed: 0        Unnamed: 1\n",
       "0          NaN               NaN\n",
       "1     Item No.  Case Weight (lb)\n",
       "2          410                 2\n",
       "3          440               2.5\n",
       "4          450               2.3\n",
       "..         ...               ...\n",
       "392      97968               9.9\n",
       "393      97969               2.8\n",
       "394      97970               2.3\n",
       "395      97971               2.3\n",
       "396      97972               2.3\n",
       "\n",
       "[397 rows x 2 columns]>"
      ]
     },
     "execution_count": 894,
     "metadata": {},
     "output_type": "execute_result"
    }
   ],
   "source": [
    "case_weights.describe"
   ]
  },
  {
   "cell_type": "code",
   "execution_count": 895,
   "id": "1e9f9a6b-0a60-4b10-b54c-ba929f7ddb04",
   "metadata": {},
   "outputs": [],
   "source": [
    "# Standardize column names: Remove extra spaces and drop any extraneous header rows if necessary.\n",
    "case_weights.columns = case_weights.columns.str.strip()\n",
    "# If the very first row contains column names, ensure to drop it if it’s duplicated:\n",
    "case_weights = case_weights.iloc[1:].reset_index(drop=True)\n",
    "\n",
    "case_weights = case_weights.drop_duplicates()\n"
   ]
  },
  {
   "cell_type": "code",
   "execution_count": 896,
   "id": "74d0a4a7-0f61-4b81-9cf1-fe4c49356398",
   "metadata": {},
   "outputs": [
    {
     "data": {
      "text/html": [
       "<div>\n",
       "<style scoped>\n",
       "    .dataframe tbody tr th:only-of-type {\n",
       "        vertical-align: middle;\n",
       "    }\n",
       "\n",
       "    .dataframe tbody tr th {\n",
       "        vertical-align: top;\n",
       "    }\n",
       "\n",
       "    .dataframe thead th {\n",
       "        text-align: right;\n",
       "    }\n",
       "</style>\n",
       "<table border=\"1\" class=\"dataframe\">\n",
       "  <thead>\n",
       "    <tr style=\"text-align: right;\">\n",
       "      <th></th>\n",
       "      <th>Unnamed: 0</th>\n",
       "      <th>Unnamed: 1</th>\n",
       "    </tr>\n",
       "  </thead>\n",
       "  <tbody>\n",
       "    <tr>\n",
       "      <th>0</th>\n",
       "      <td>Item No.</td>\n",
       "      <td>Case Weight (lb)</td>\n",
       "    </tr>\n",
       "    <tr>\n",
       "      <th>1</th>\n",
       "      <td>410</td>\n",
       "      <td>2</td>\n",
       "    </tr>\n",
       "    <tr>\n",
       "      <th>2</th>\n",
       "      <td>440</td>\n",
       "      <td>2.5</td>\n",
       "    </tr>\n",
       "    <tr>\n",
       "      <th>3</th>\n",
       "      <td>450</td>\n",
       "      <td>2.3</td>\n",
       "    </tr>\n",
       "    <tr>\n",
       "      <th>4</th>\n",
       "      <td>610</td>\n",
       "      <td>2.3</td>\n",
       "    </tr>\n",
       "  </tbody>\n",
       "</table>\n",
       "</div>"
      ],
      "text/plain": [
       "  Unnamed: 0        Unnamed: 1\n",
       "0   Item No.  Case Weight (lb)\n",
       "1        410                 2\n",
       "2        440               2.5\n",
       "3        450               2.3\n",
       "4        610               2.3"
      ]
     },
     "execution_count": 896,
     "metadata": {},
     "output_type": "execute_result"
    }
   ],
   "source": [
    "case_weights.head()"
   ]
  },
  {
   "cell_type": "code",
   "execution_count": 897,
   "id": "d65388ad-86de-4862-b0f4-d6282e0e1a93",
   "metadata": {},
   "outputs": [
    {
     "name": "stdout",
     "output_type": "stream",
     "text": [
      "Updated Column Headers:\n",
      "Index(['Item No.', 'Case Weight (lb)'], dtype='object', name=0)\n",
      "0 Item No. Case Weight (lb)\n",
      "0      410                2\n",
      "1      440              2.5\n",
      "2      450              2.3\n",
      "3      610              2.3\n",
      "4      612              2.3\n"
     ]
    }
   ],
   "source": [
    "# Assign the first row as column headers\n",
    "case_weights.columns = case_weights.iloc[0]  # Use first row as column names\n",
    "case_weights = case_weights[1:].reset_index(drop=True)  # Remove the first row\n",
    "\n",
    "# Display the cleaned headers\n",
    "print(\"Updated Column Headers:\")\n",
    "print(case_weights.columns)\n",
    "\n",
    "# Display first few rows to verify\n",
    "print(case_weights.head())\n"
   ]
  },
  {
   "cell_type": "code",
   "execution_count": 898,
   "id": "dd434bfd-fb0e-4231-806f-56d70430bd40",
   "metadata": {
    "scrolled": true
   },
   "outputs": [
    {
     "name": "stdout",
     "output_type": "stream",
     "text": [
      "0 Item No. Case Weight (lb)\n",
      "0      410                2\n",
      "1      440              2.5\n",
      "2      450              2.3\n",
      "3      610              2.3\n",
      "4      612              2.3\n"
     ]
    }
   ],
   "source": [
    "print(case_weights.head())"
   ]
  },
  {
   "cell_type": "code",
   "execution_count": 899,
   "id": "321b6587-b70d-4c73-b881-1b468d7b549a",
   "metadata": {},
   "outputs": [],
   "source": [
    "case_weights.columns = [\n",
    "    \"ProductCode\",\"WeightPerBox\"\n",
    "]"
   ]
  },
  {
   "cell_type": "code",
   "execution_count": 900,
   "id": "9e05edc1-ee7b-4bb2-8010-a7c953c18da2",
   "metadata": {},
   "outputs": [
    {
     "name": "stdout",
     "output_type": "stream",
     "text": [
      "ProductCode     0\n",
      "WeightPerBox    0\n",
      "dtype: int64\n"
     ]
    }
   ],
   "source": [
    "#Handle missing values\n",
    "print(case_weights.isnull().sum())\n"
   ]
  },
  {
   "cell_type": "code",
   "execution_count": 901,
   "id": "b6fedb60-c721-4170-a326-4ff3d325311e",
   "metadata": {},
   "outputs": [],
   "source": [
    "#Convert data types\n",
    "case_weights[\"ProductCode\"] = case_weights[\"ProductCode\"].astype(\"category\")\n",
    "case_weights[\"WeightPerBox\"] = case_weights[\"WeightPerBox\"].astype(\"float32\")\n"
   ]
  },
  {
   "cell_type": "code",
   "execution_count": 902,
   "id": "10fa6b8e-2044-48f4-8751-6f34534dbd3b",
   "metadata": {},
   "outputs": [
    {
     "name": "stdout",
     "output_type": "stream",
     "text": [
      "ProductCode     category\n",
      "WeightPerBox     float32\n",
      "dtype: object\n"
     ]
    }
   ],
   "source": [
    "print(case_weights.dtypes)"
   ]
  },
  {
   "cell_type": "code",
   "execution_count": 903,
   "id": "b54fcbc3-c03a-4bd3-a149-e47fc1f4b579",
   "metadata": {},
   "outputs": [
    {
     "data": {
      "text/plain": [
       "(395, 2)"
      ]
     },
     "execution_count": 903,
     "metadata": {},
     "output_type": "execute_result"
    }
   ],
   "source": [
    "case_weights = case_weights.drop_duplicates()\n",
    "case_weights.shape"
   ]
  },
  {
   "cell_type": "code",
   "execution_count": 906,
   "id": "fda0f9a5-12fa-4487-a225-cce946fe12eb",
   "metadata": {},
   "outputs": [],
   "source": [
    "# Merge Case Weights into Sales Data to get missing WeightPerCase values\n",
    "historical_sales_df = historical_sales.merge(case_weights[[\"ProductCode\", \"WeightPerBox\"]], on=\"ProductCode\", how=\"left\", suffixes=(\"\", \"_case_weights\"))\n"
   ]
  },
  {
   "cell_type": "code",
   "execution_count": 907,
   "id": "d3972eb9-4e0d-4c42-9f86-1b64b0a3e4df",
   "metadata": {},
   "outputs": [],
   "source": [
    "\n",
    "# Fill missing WeightPerCase values in Sales with values from Case Weights\n",
    "historical_sales_df[\"WeightPerBox\"] = historical_sales_df[\"WeightPerBox\"].mask(\n",
    "    (historical_sales_df[\"WeightPerBox\"] == 0) | (historical_sales_df[\"WeightPerBox\"].isnull()),\n",
    "    historical_sales_df[\"WeightPerBox_case_weights\"]\n",
    ")\n"
   ]
  },
  {
   "cell_type": "code",
   "execution_count": 908,
   "id": "3198fe06-6d74-41eb-b718-31f3af5e35c7",
   "metadata": {},
   "outputs": [
    {
     "name": "stdout",
     "output_type": "stream",
     "text": [
      "Remaining columns in Fact_Sales: Index(['Year', 'Month', 'Business', 'Channel', 'CustomerCode', 'State',\n",
      "       'ProductCode', 'ProductCategory', 'ProductGroup', 'Boxes',\n",
      "       'WeightPerBox', 'TotalWeight', 'Revenue', 'TransactionType'],\n",
      "      dtype='object')\n"
     ]
    }
   ],
   "source": [
    "#I want to drop WeightPerCase_case_weights - becaus eit may not be the most updated info\n",
    "\n",
    "# Drop the \"WeightPerCase_case_weights\" column from the sales table if it exists\n",
    "if \"WeightPerBox_case_weights\" in historical_sales_df.columns:\n",
    "    historical_sales_df.drop(columns=[\"WeightPerBox_case_weights\"], inplace=True)\n",
    "\n",
    "# Verify the column is removed\n",
    "print(\"Remaining columns in Fact_Sales:\", historical_sales_df.columns)\n"
   ]
  },
  {
   "cell_type": "code",
   "execution_count": 909,
   "id": "3a413721-bbf7-492e-8647-ac9b712bd714",
   "metadata": {},
   "outputs": [
    {
     "data": {
      "text/plain": [
       "<bound method NDFrame.head of        Year  Month    Business       Channel CustomerCode State  ProductCode  \\\n",
       "0      2020      1  Business A  Food Service       700002    MA        15040   \n",
       "1      2020      1  Business A  Food Service       700007    MI        15040   \n",
       "2      2020      1  Business A  Food Service       700052    NY        15040   \n",
       "3      2020      1  Business A  Food Service       700062    NH        10041   \n",
       "4      2020      1  Business A  Food Service       700062    NH        15040   \n",
       "...     ...    ...         ...           ...          ...   ...          ...   \n",
       "14221  2018     12  Business A  Food Service       900030    IL        50010   \n",
       "14222  2018     12  Business A  Food Service       900030    IL        50015   \n",
       "14223  2018     12  Business A  Food Service       900030    IL        50040   \n",
       "14224  2018     12  Business A  Food Service       900030    IL        60004   \n",
       "14225  2018     12  Business B  Food Service       900030    IL        97404   \n",
       "\n",
       "      ProductCategory ProductGroup  Boxes  WeightPerBox   TotalWeight  \\\n",
       "0             Branded     Crackers   3840          4.69  18009.599609   \n",
       "1             Branded     Crackers   4800          4.69  22512.000000   \n",
       "2             Branded     Crackers   3072          4.69  14407.679688   \n",
       "3             Branded     Crackers     80         10.00    800.000000   \n",
       "4             Branded     Crackers   9792          4.69  45924.480469   \n",
       "...               ...          ...    ...           ...           ...   \n",
       "14221         Branded      Cookies    456          8.30   3784.800049   \n",
       "14222         Branded      Cookies    400          6.58   2632.000000   \n",
       "14223         Branded      Cookies    218          8.30   1809.400024   \n",
       "14224         Branded     Crackers    480          6.00   2880.000000   \n",
       "14225         Branded      Muffins    168          1.88    315.839996   \n",
       "\n",
       "             Revenue TransactionType  \n",
       "0       41241.601562     Normal Sale  \n",
       "1       56016.000000     Normal Sale  \n",
       "2       35850.238281     Normal Sale  \n",
       "3        1632.000000     Normal Sale  \n",
       "4      124162.562500     Normal Sale  \n",
       "...              ...             ...  \n",
       "14221    6299.100098     Normal Sale  \n",
       "14222    3673.840088     Normal Sale  \n",
       "14223    2002.239990     Normal Sale  \n",
       "14224    5712.540039     Normal Sale  \n",
       "14225    2738.300049     Normal Sale  \n",
       "\n",
       "[14226 rows x 14 columns]>"
      ]
     },
     "execution_count": 909,
     "metadata": {},
     "output_type": "execute_result"
    }
   ],
   "source": [
    "historical_sales_df.head"
   ]
  },
  {
   "cell_type": "code",
   "execution_count": 935,
   "id": "dfb92de2-c045-4672-af4b-5e9eeaf22062",
   "metadata": {},
   "outputs": [],
   "source": [
    "#historical_sales_df.head"
   ]
  },
  {
   "cell_type": "code",
   "execution_count": 923,
   "id": "7a0b1611-306e-464c-9d6f-a067eeee4ae7",
   "metadata": {},
   "outputs": [
    {
     "name": "stdout",
     "output_type": "stream",
     "text": [
      "   Year  Month  MonthDate\n",
      "0  2018      1 2018-01-01\n",
      "1  2018      1 2018-01-01\n",
      "2  2018      1 2018-01-01\n",
      "3  2018      1 2018-01-01\n",
      "4  2018      1 2018-01-01\n",
      "   Year  Month    Business       Channel CustomerCode State  ProductCode  \\\n",
      "0  2018      1  Business A  Food Service       700007    MI        15040   \n",
      "1  2018      1  Business A  Food Service       700052    NY        15040   \n",
      "2  2018      1  Business A  Food Service       700062    NH        15040   \n",
      "3  2018      1  Business A  Food Service       700075    CT        15040   \n",
      "4  2018      1  Business A  Food Service       700077    CT        15040   \n",
      "\n",
      "  ProductCategory ProductGroup  Boxes  WeightPerBox   TotalWeight  \\\n",
      "0         Branded     Crackers   4800          4.69  22512.000000   \n",
      "1         Branded     Crackers   3072          4.69  14407.679688   \n",
      "2         Branded     Crackers   8932          4.69  41891.078125   \n",
      "3         Branded     Crackers   3456          4.69  16208.639648   \n",
      "4         Branded     Crackers   3072          4.69  14407.679688   \n",
      "\n",
      "        Revenue TransactionType  MonthDate  \n",
      "0  50928.000000     Normal Sale 2018-01-01  \n",
      "1  33576.960938     Normal Sale 2018-01-01  \n",
      "2  97626.757812     Normal Sale 2018-01-01  \n",
      "3  36668.160156     Normal Sale 2018-01-01  \n",
      "4  33576.960938     Normal Sale 2018-01-01  \n"
     ]
    }
   ],
   "source": [
    "# Ensure Year and Month exist and are in correct format\n",
    "if \"Year\" in historical_sales_df.columns and \"Month\" in historical_sales_df.columns:\n",
    "    # Convert Year and Month to integers if not already\n",
    "    historical_sales_df[\"Year\"] = historical_sales_df[\"Year\"].astype(int)\n",
    "    historical_sales_df[\"Month\"] = historical_sales_df[\"Month\"].astype(int)\n",
    "\n",
    "    # Create MonDate column (First day of the month YYYY-MM-01)\n",
    "    historical_sales_df[\"MonthDate\"] = pd.to_datetime(historical_sales_df[[\"Year\", \"Month\"]].assign(day=1))\n",
    "\n",
    "# Verify the new column\n",
    "print(historical_sales_df[[\"Year\", \"Month\", \"MonthDate\"]].head())\n",
    "\n",
    "\n",
    "# Sort by Year and Month\n",
    "historical_sales_df = historical_sales_df.sort_values(by=[\"Year\", \"Month\"]).reset_index(drop=True)\n",
    "\n",
    "# Verify the structure\n",
    "print(historical_sales_df.head())\n"
   ]
  },
  {
   "cell_type": "code",
   "execution_count": 924,
   "id": "937aa9bd-4066-4311-a316-5efb457036a7",
   "metadata": {},
   "outputs": [
    {
     "name": "stdout",
     "output_type": "stream",
     "text": [
      "   Boxes       Revenue  PricePerBox\n",
      "0   4800  50928.000000        10.61\n",
      "1   3072  33576.960938        10.93\n",
      "2   8932  97626.757812        10.93\n",
      "3   3456  36668.160156        10.61\n",
      "4   3072  33576.960938        10.93\n"
     ]
    }
   ],
   "source": [
    "#Calculating Price per Box\n",
    "# Ensure Quantity (Boxes) and TotalAmt are numeric\n",
    "historical_sales_df[\"Boxes\"] = pd.to_numeric(historical_sales_df[\"Boxes\"], errors=\"coerce\")\n",
    "historical_sales_df[\"Revenue\"] = pd.to_numeric(historical_sales_df[\"Revenue\"], errors=\"coerce\")\n",
    "\n",
    "# Calculate Price Per Box\n",
    "historical_sales_df[\"PricePerBox\"] = historical_sales_df[\"Revenue\"] / historical_sales_df[\"Boxes\"]\n",
    "\n",
    "# Verify the calculation\n",
    "print(historical_sales_df[[\"Boxes\", \"Revenue\", \"PricePerBox\"]].head())\n"
   ]
  },
  {
   "cell_type": "code",
   "execution_count": 936,
   "id": "732edcf9-ed95-4639-ac95-cb3c59d2d26e",
   "metadata": {},
   "outputs": [],
   "source": [
    "#historical_sales_df.head\n"
   ]
  },
  {
   "cell_type": "code",
   "execution_count": 926,
   "id": "f7b2fe77-69b9-4561-aa73-62c33893dae6",
   "metadata": {},
   "outputs": [
    {
     "name": "stdout",
     "output_type": "stream",
     "text": [
      "   Year  Month  MonthDate    Business       Channel CustomerCode State  \\\n",
      "0  2018      1 2018-01-01  Business A  Food Service       700007    MI   \n",
      "1  2018      1 2018-01-01  Business A  Food Service       700052    NY   \n",
      "2  2018      1 2018-01-01  Business A  Food Service       700062    NH   \n",
      "3  2018      1 2018-01-01  Business A  Food Service       700075    CT   \n",
      "4  2018      1 2018-01-01  Business A  Food Service       700077    CT   \n",
      "\n",
      "   ProductCode ProductCategory ProductGroup TransactionType  Boxes  \\\n",
      "0        15040         Branded     Crackers     Normal Sale   4800   \n",
      "1        15040         Branded     Crackers     Normal Sale   3072   \n",
      "2        15040         Branded     Crackers     Normal Sale   8932   \n",
      "3        15040         Branded     Crackers     Normal Sale   3456   \n",
      "4        15040         Branded     Crackers     Normal Sale   3072   \n",
      "\n",
      "   WeightPerBox  PricePerBox   TotalWeight       Revenue  \n",
      "0          4.69        10.61  22512.000000  50928.000000  \n",
      "1          4.69        10.93  14407.679688  33576.960938  \n",
      "2          4.69        10.93  41891.078125  97626.757812  \n",
      "3          4.69        10.61  16208.639648  36668.160156  \n",
      "4          4.69        10.93  14407.679688  33576.960938  \n"
     ]
    }
   ],
   "source": [
    "# Define the new column order\n",
    "new_column_order = [\n",
    "    \"Year\", \"Month\",\"MonthDate\", \"Business\", \"Channel\",\"CustomerCode\",\"State\",\"ProductCode\",\n",
    "    \"ProductCategory\", \"ProductGroup\",\"TransactionType\",\"Boxes\",\"WeightPerBox\",\"PricePerBox\",\"TotalWeight\", \"Revenue\"]\n",
    "\n",
    "# Reorder the columns\n",
    "historical_sales_df = historical_sales_df[new_column_order]\n",
    "\n",
    "# Verify the new order\n",
    "print(historical_sales_df.head())"
   ]
  },
  {
   "cell_type": "code",
   "execution_count": 927,
   "id": "f6d1c67e-5256-448c-a778-6c31d65b6aea",
   "metadata": {},
   "outputs": [],
   "source": [
    "historical_sales_df.to_csv(\"Fact_Sales.csv\", index=False)\n"
   ]
  },
  {
   "cell_type": "code",
   "execution_count": 929,
   "id": "a833f7d0-bad0-4aae-bd25-38756c9bc6a8",
   "metadata": {},
   "outputs": [],
   "source": [
    "# Dim_Date: Create a Date Dimension Table\n",
    "Dim_Date = pd.DataFrame({\n",
    "    \"DateKey\": pd.date_range(start=\"2018-01-01\", periods=365*5, freq=\"D\").strftime(\"%Y-%m-%d\")\n",
    "})\n",
    "Dim_Date[\"Year\"] = pd.to_datetime(Dim_Date[\"DateKey\"]).dt.year\n",
    "Dim_Date[\"Month\"] = pd.to_datetime(Dim_Date[\"DateKey\"]).dt.month\n",
    "Dim_Date[\"Quarter\"] = pd.to_datetime(Dim_Date[\"DateKey\"]).dt.quarter\n",
    "Dim_Date.to_csv(\"Dim_Date.csv\", index=False)\n"
   ]
  },
  {
   "cell_type": "code",
   "execution_count": 928,
   "id": "4bbb293c-dedf-4056-9b16-efe78b829e07",
   "metadata": {},
   "outputs": [
    {
     "name": "stdout",
     "output_type": "stream",
     "text": [
      "The history saving thread hit an unexpected error (OperationalError('attempt to write a readonly database')).History will not be written to the database.\n"
     ]
    },
    {
     "name": "stderr",
     "output_type": "stream",
     "text": [
      "/var/folders/r8/nhc1hq510sgf0m_19lwsv4qh0000gn/T/ipykernel_35897/2549266386.py:9: FutureWarning: The default of observed=False is deprecated and will be changed to True in a future version of pandas. Pass observed=False to retain current behavior or observed=True to adopt the future default and silence this warning.\n",
      "  Dim_Customer[\"State\"] = historical_sales_df.groupby(\"CustomerCode\")[\"State\"].transform(lambda x: x.mode()[0] if not x.mode().empty else \"Unknown\")\n"
     ]
    },
    {
     "name": "stdout",
     "output_type": "stream",
     "text": [
      "  CustomerCode State\n",
      "0       700007    MI\n",
      "1       700052    NY\n",
      "2       700062    NH\n",
      "3       700075    CT\n",
      "4       700077    CT\n",
      "   ProductCode ProductGroup ProductCategory  WeightPerBox  PricePerBox\n",
      "0        15040     Crackers         Branded          4.69        10.61\n",
      "1        15040     Crackers         Branded          4.69        10.93\n",
      "2        15040     Crackers         Branded          4.69        10.93\n",
      "3        15040     Crackers         Branded          4.69        10.61\n",
      "5        15040     Crackers         Branded          4.69        12.54\n"
     ]
    }
   ],
   "source": [
    "#Let create the dim tables\n",
    "# Step 1: Create Dimension Tables\n",
    "\n",
    "# Step 1: Create Dim_Customer with unique Customer Codes\n",
    "Dim_Customer = historical_sales_df[[\"CustomerCode\"]].drop_duplicates()\n",
    "\n",
    "# Step 2: Assign the most common State per CustomerCode\n",
    "Dim_Customer[\"State\"] = historical_sales_df.groupby(\"CustomerCode\")[\"State\"].transform(lambda x: x.mode()[0] if not x.mode().empty else \"Unknown\")\n",
    "\n",
    "# Step 3: Save to CSV\n",
    "Dim_Customer.to_csv(\"Dim_Customer.csv\", index=False)\n",
    "\n",
    "# Verify the output\n",
    "print(Dim_Customer.head())\n",
    "\n",
    "\n",
    "# Dim_Product: Unique Products with Categories & Weights\n",
    "Dim_Product = historical_sales_df[[\"ProductCode\", \"ProductGroup\", \"ProductCategory\", \"WeightPerBox\", \"PricePerBox\"]]\n",
    "\n",
    "# Ensure ProductCode is not null and drop duplicates\n",
    "Dim_Product = Dim_Product.dropna(subset=[\"ProductCode\"]).drop_duplicates()\n",
    "\n",
    "# Convert numeric columns\n",
    "Dim_Product[\"WeightPerBox\"] = pd.to_numeric(Dim_Product[\"WeightPerBox\"], errors=\"coerce\")\n",
    "Dim_Product[\"PricePerBox\"] = pd.to_numeric(Dim_Product[\"PricePerBox\"], errors=\"coerce\")\n",
    "\n",
    "# Save to CSV\n",
    "Dim_Product.to_csv(\"Dim_Product.csv\", index=False)\n",
    "\n",
    "# Verify output\n",
    "print(Dim_Product.head())\n"
   ]
  },
  {
   "cell_type": "code",
   "execution_count": 770,
   "id": "75b26b46-a3b4-491a-80f6-ceec7ea8f28a",
   "metadata": {},
   "outputs": [],
   "source": [
    "Fact_Sales = historical_sales_df"
   ]
  },
  {
   "cell_type": "code",
   "execution_count": 771,
   "id": "8326a68f-4707-481a-bdf9-a1c432fcb869",
   "metadata": {},
   "outputs": [
    {
     "name": "stdout",
     "output_type": "stream",
     "text": [
      "       Year Month\n",
      "0      2018   Jan\n",
      "440    2018   Feb\n",
      "894    2018   Mar\n",
      "1343   2018   Apr\n",
      "1822   2018   May\n",
      "2283   2018   Jun\n",
      "2660   2018   Jul\n",
      "3025   2018   Aug\n",
      "3567   2018   Sep\n",
      "3980   2018   Oct\n",
      "4537   2018   Nov\n",
      "5123   2018   Dec\n",
      "5490   2019   Jan\n",
      "5943   2019   Feb\n",
      "6346   2019   Mar\n",
      "6772   2019   Apr\n",
      "7255   2019   May\n",
      "7668   2019   Jun\n",
      "8032   2019   Jul\n",
      "8406   2019   Aug\n",
      "8930   2019   Sep\n",
      "9371   2019   Oct\n",
      "9821   2019   Nov\n",
      "10301  2019   Dec\n",
      "10719  2020   Jan\n",
      "11139  2020   Feb\n",
      "11493  2020   Mar\n",
      "11839  2020   Apr\n",
      "12009  2020   May\n",
      "12165  2020   Jun\n",
      "12356  2020   Jul\n",
      "12645  2020   Aug\n",
      "12909  2020   Sep\n",
      "13238  2020   Oct\n",
      "13600  2020   Nov\n",
      "13908  2020   Dec\n"
     ]
    }
   ],
   "source": [
    "# Define the correct chronological order for months\n",
    "month_order = [\"Jan\", \"Feb\", \"Mar\", \"Apr\", \"May\", \"Jun\", \n",
    "               \"Jul\", \"Aug\", \"Sep\", \"Oct\", \"Nov\", \"Dec\"]\n",
    "\n",
    "# Convert Month to categorical with correct order\n",
    "Fact_Sales[\"Month\"] = pd.Categorical(Fact_Sales[\"Month\"], categories=month_order, ordered=True)\n",
    "\n",
    "# Convert Year to integer if not already\n",
    "Fact_Sales[\"Year\"] = Fact_Sales[\"Year\"].astype(int)\n",
    "\n",
    "# Sort by Year first, then by Month (which is now correctly ordered)\n",
    "Fact_Sales = Fact_Sales.sort_values(by=[\"Year\", \"Month\"]).reset_index(drop=True)\n",
    "\n",
    "# Verify the sorting\n",
    "print(Fact_Sales[[\"Year\", \"Month\"]].drop_duplicates())\n"
   ]
  },
  {
   "cell_type": "code",
   "execution_count": 937,
   "id": "5990af8b-6e5d-48f1-9a53-55028ce36e23",
   "metadata": {},
   "outputs": [],
   "source": [
    "#Fact_Sales.head(29)"
   ]
  },
  {
   "cell_type": "code",
   "execution_count": 774,
   "id": "e71734d3-be84-40fb-8900-237d75d7fc73",
   "metadata": {},
   "outputs": [],
   "source": [
    "Fact_Sales.to_csv(\"Fact_Sales.csv\", index=False)"
   ]
  }
 ],
 "metadata": {
  "kernelspec": {
   "display_name": "Python 3 (ipykernel)",
   "language": "python",
   "name": "python3"
  },
  "language_info": {
   "codemirror_mode": {
    "name": "ipython",
    "version": 3
   },
   "file_extension": ".py",
   "mimetype": "text/x-python",
   "name": "python",
   "nbconvert_exporter": "python",
   "pygments_lexer": "ipython3",
   "version": "3.13.2"
  }
 },
 "nbformat": 4,
 "nbformat_minor": 5
}
