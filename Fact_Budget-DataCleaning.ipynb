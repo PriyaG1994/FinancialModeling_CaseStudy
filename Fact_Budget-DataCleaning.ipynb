{
 "cells": [
  {
   "cell_type": "code",
   "execution_count": 587,
   "id": "edbc6b3a-c0b9-4297-8c4d-e8bbc123a5a3",
   "metadata": {},
   "outputs": [],
   "source": [
    "import pandas as pd\n",
    "import numpy as np"
   ]
  },
  {
   "cell_type": "code",
   "execution_count": 573,
   "id": "aa3d9b3d-5a21-463e-b4a5-45dd7902c5ea",
   "metadata": {},
   "outputs": [],
   "source": [
    "#LETS MOVE ON TO THE NEXT DATASET\n",
    "# Load Budget data\n",
    "budget_df = pd.read_excel(\"Assignment-Budget.xlsx\", sheet_name=\"Data\")"
   ]
  },
  {
   "cell_type": "code",
   "execution_count": 574,
   "id": "6f5f12cf-a220-489d-b6d6-ff306b362443",
   "metadata": {},
   "outputs": [
    {
     "name": "stdout",
     "output_type": "stream",
     "text": [
      "Total records: 889\n"
     ]
    }
   ],
   "source": [
    "print(\"Total records:\", len(budget_df))"
   ]
  },
  {
   "cell_type": "code",
   "execution_count": 575,
   "id": "7599cfad-f5c5-4870-be4e-1356ba470ab8",
   "metadata": {},
   "outputs": [
    {
     "name": "stdout",
     "output_type": "stream",
     "text": [
      "3  NaN Customer Code Item Code    Business Channel     Branded/PL Item Group  \\\n",
      "0  NaN        761644     53672  Business A  Retail  Private Label   Crackers   \n",
      "1  NaN        760394     53672  Business A  Retail  Private Label   Crackers   \n",
      "2  NaN        793483     53672  Business A  Retail  Private Label   Crackers   \n",
      "3  NaN        760401     53672  Business A  Retail  Private Label   Crackers   \n",
      "4  NaN        793480     53672  Business A  Retail  Private Label   Crackers   \n",
      "\n",
      "3 Jan '21 Feb '21 Mar '21  ...  Apr '21  May '21 Jun '21 Jul '21   Aug '21  \\\n",
      "0    3960  2851.2  3484.8  ...  9694.08        0       0       0  30697.92   \n",
      "1  3326.4  3168.0  2851.2  ...        0        0       0       0  45239.04   \n",
      "2  1425.6   792.0   950.4  ...        0        0       0       0  12925.44   \n",
      "3  9028.8  4118.4  3484.8  ...  6462.72  24235.2       0       0         0   \n",
      "4  8236.8       0  4118.4  ...  6462.72        0       0       0   32313.6   \n",
      "\n",
      "3     Sep '21      Oct '21     Nov '21     Dec '21    x  \n",
      "0  25170.8688   59331.3336  46745.8992  52139.6568  NaN  \n",
      "1           0   30564.6264  30564.6264  50341.7376  NaN  \n",
      "2    44947.98            0   1797.9192  25170.8688  NaN  \n",
      "3  61129.2528  129450.1824  93491.7984  59331.3336  NaN  \n",
      "4  28766.7072   91693.8792  75512.6064  66523.0104  NaN  \n",
      "\n",
      "[5 rows x 33 columns]\n"
     ]
    }
   ],
   "source": [
    "# Assume the meaningful headers are on row 4 (index 3)\n",
    "new_header = budget_df.iloc[3]\n",
    "\n",
    "# Drop all rows above (and including) the header row, then reset index\n",
    "budget_df = budget_df.iloc[4:].reset_index(drop=True)\n",
    "\n",
    "# Set the new header\n",
    "budget_df.columns = new_header\n",
    "\n",
    "# Optional: clean column names by stripping extra spaces\n",
    "budget_df.columns = budget_df.columns.str.strip()\n",
    "print(budget_df.head())\n"
   ]
  },
  {
   "cell_type": "code",
   "execution_count": 577,
   "id": "4209b0e0-faa2-4d2c-af5f-dcbdc741266e",
   "metadata": {},
   "outputs": [],
   "source": [
    "# Identify the column groups\n",
    "    # First 6 columns are identifiers\n",
    "identifier_cols = budget_df.columns[:6]\n",
    "    \n",
    "    # Find the 'a' separator column that separates Cases from Dollars\n",
    "separator_col_idx = budget_df.columns.get_loc('a')\n",
    "    \n",
    "    # Cases columns come before the separator\n",
    "cases_cols = budget_df.columns[6:separator_col_idx]\n",
    "    \n",
    "    # Dollars columns come after the separator, excluding the 'x' column at the end\n",
    "amount_cols = budget_df.columns[separator_col_idx+1:-1]\n",
    "    \n",
    "    # Create separate dataframes for cases and dollars\n",
    "df_cases = pd.melt(\n",
    "    budget_df,\n",
    "    id_vars=identifier_cols,\n",
    "    value_vars=cases_cols,\n",
    "    var_name=\"Month\",\n",
    "    value_name=\"Cases\"\n",
    ")\n",
    "    \n",
    "df_dollars = pd.melt(\n",
    "    budget_df,\n",
    "    id_vars=identifier_cols,\n",
    "    value_vars=amount_cols,\n",
    "    var_name=\"Month\",\n",
    "    value_name=\"Dollars\"\n",
    ")"
   ]
  },
  {
   "cell_type": "code",
   "execution_count": 589,
   "id": "6770c0a0-08b4-4440-9633-3cdb769ecd78",
   "metadata": {},
   "outputs": [],
   "source": [
    "# Create a mapping from dollars month columns to cases month columns\n",
    "month_mapping = {}\n",
    "for i, dollars_col in enumerate(amount_cols):\n",
    "    if i < len(cases_cols):\n",
    "        month_mapping[dollars_col] = cases_cols[i]\n",
    "\n",
    "# Apply the mapping to standardize month names\n",
    "df_dollars[\"Month\"] = df_dollars[\"Month\"].map(month_mapping)"
   ]
  },
  {
   "cell_type": "code",
   "execution_count": 590,
   "id": "0479e727-60c4-4b22-9936-b9eb38201e7d",
   "metadata": {},
   "outputs": [],
   "source": [
    "# Merge the dataframes\n",
    "unpivoted_df = pd.merge(df_cases, df_dollars, on=list(identifier_cols) + [\"Month\"])"
   ]
  },
  {
   "cell_type": "code",
   "execution_count": 608,
   "id": "a6b19251-fd09-41af-bff3-be4a889c4eca",
   "metadata": {},
   "outputs": [
    {
     "data": {
      "text/plain": [
       "(9802, 10)"
      ]
     },
     "execution_count": 608,
     "metadata": {},
     "output_type": "execute_result"
    }
   ],
   "source": [
    "#Cleaning\n",
    "unpivoted_df.shape"
   ]
  },
  {
   "cell_type": "code",
   "execution_count": 604,
   "id": "edd9f2aa-c818-42c3-aec5-d6a8e2d38915",
   "metadata": {},
   "outputs": [
    {
     "name": "stdout",
     "output_type": "stream",
     "text": [
      "Remaining duplicate rows after removal: 0\n"
     ]
    }
   ],
   "source": [
    "# Remove duplicate rows from the unpivoted DataFrame\n",
    "unpivoted_df = unpivoted_df.drop_duplicates()\n",
    "\n",
    "# Verify if duplicates are removed\n",
    "remaining_duplicates = unpivoted_df.duplicated().sum()\n",
    "\n",
    "# Print confirmation\n",
    "print(f\"Remaining duplicate rows after removal: {remaining_duplicates}\")\n"
   ]
  },
  {
   "cell_type": "code",
   "execution_count": 607,
   "id": "3c83e4f8-d554-41d0-a3d7-1aece86d08ff",
   "metadata": {},
   "outputs": [
    {
     "name": "stdout",
     "output_type": "stream",
     "text": [
      "Remaining rows after removal: 0\n"
     ]
    }
   ],
   "source": [
    "# Ensure columns exist before filtering\n",
    "if \"Cases\" in unpivoted_df.columns and \"Dollars\" in unpivoted_df.columns:\n",
    "    unpivoted_df = unpivoted_df[unpivoted_df[\"Cases\"] != unpivoted_df[\"Dollars\"]]\n",
    "\n",
    "# Verify if rows were removed\n",
    "print(f\"Remaining rows after removal: {merged_budget.shape[0]}\")\n"
   ]
  },
  {
   "cell_type": "code",
   "execution_count": 601,
   "id": "45a74e57-1f53-4f00-8ad9-5251b98edb5e",
   "metadata": {},
   "outputs": [
    {
     "data": {
      "text/plain": [
       "<bound method NDFrame.head of       CustomerCode ProductCode    Business       Channel ProductCategory  \\\n",
       "0           761644       53672  Business A        Retail   Private Label   \n",
       "1           761644       53672  Business A        Retail   Private Label   \n",
       "2           760394       53672  Business A        Retail   Private Label   \n",
       "3           760394       53672  Business A        Retail   Private Label   \n",
       "4           793483       53672  Business A        Retail   Private Label   \n",
       "...            ...         ...         ...           ...             ...   \n",
       "42475       800224       50040  Business A  Food Service         Branded   \n",
       "42476       900009       50015  Business A  Food Service         Branded   \n",
       "42477       900009       50015  Business A  Food Service         Branded   \n",
       "42478       900009       50040  Business A  Food Service         Branded   \n",
       "42479       900009       50040  Business A  Food Service         Branded   \n",
       "\n",
       "      ProductGroup    Month     Cases   Dollars  MonthNum  \n",
       "0         Crackers  Jan '21      3960      3960         1  \n",
       "1         Crackers  Jan '21      3960     40392         1  \n",
       "2         Crackers  Jan '21    3326.4    3326.4         1  \n",
       "3         Crackers  Jan '21    3326.4  33929.28         1  \n",
       "4         Crackers  Jan '21    1425.6    1425.6         1  \n",
       "...            ...      ...       ...       ...       ...  \n",
       "42475      Cookies  Dec '21     33852     33852        12  \n",
       "42476      Cookies  Dec '21  103812.8      8587        12  \n",
       "42477      Cookies  Dec '21  103812.8  103812.8        12  \n",
       "42478      Cookies  Dec '21  103812.8      8587        12  \n",
       "42479      Cookies  Dec '21  103812.8  103812.8        12  \n",
       "\n",
       "[42480 rows x 10 columns]>"
      ]
     },
     "execution_count": 601,
     "metadata": {},
     "output_type": "execute_result"
    }
   ],
   "source": [
    "# Merge the dataframes\n",
    "unpivoted_df.head"
   ]
  },
  {
   "cell_type": "code",
   "execution_count": 597,
   "id": "d7c964a1-6121-4bb5-8079-cb8d893e87f3",
   "metadata": {},
   "outputs": [],
   "source": [
    "unpivoted_df.to_csv(\"test2.csv\", index=False)"
   ]
  },
  {
   "cell_type": "code",
   "execution_count": 600,
   "id": "a565e00b-3068-4bf2-accd-72a8b39e0b03",
   "metadata": {},
   "outputs": [],
   "source": [
    "# Rename key columns for consistency\n",
    "unpivoted_df = unpivoted_df.rename(columns={\"Customer Code\": \"CustomerCode\", \"Item Code\": \"ProductCode\", \"Branded/PL\": \"ProductCategory\",\"Item Group\": \"ProductGroup\"})\n"
   ]
  },
  {
   "cell_type": "code",
   "execution_count": 630,
   "id": "5fce827e-693f-43f2-95bb-2310692af20f",
   "metadata": {},
   "outputs": [
    {
     "name": "stdout",
     "output_type": "stream",
     "text": [
      "Year               0\n",
      "MonthNum           0\n",
      "Month              0\n",
      "MonthDate          0\n",
      "Business           0\n",
      "Channel            0\n",
      "CustomerCode       0\n",
      "ProductCode        0\n",
      "ProductCategory    0\n",
      "ProductGroup       0\n",
      "Cases              0\n",
      "Dollars            0\n",
      "dtype: int64\n"
     ]
    }
   ],
   "source": [
    "# Step 1: Check for Missing Values - Important to kote that 3 customer codes were missing in og data 12*3 in the final \n",
    "missing_values = unpivoted_df.isnull().sum()\n",
    "print(missing_values)"
   ]
  },
  {
   "cell_type": "code",
   "execution_count": 610,
   "id": "aeb835cb-d3a6-48cd-863b-38942fe49ed6",
   "metadata": {},
   "outputs": [
    {
     "name": "stderr",
     "output_type": "stream",
     "text": [
      "/var/folders/r8/nhc1hq510sgf0m_19lwsv4qh0000gn/T/ipykernel_94808/3260781192.py:2: FutureWarning: Downcasting object dtype arrays on .fillna, .ffill, .bfill is deprecated and will change in a future version. Call result.infer_objects(copy=False) instead. To opt-in to the future behavior, set `pd.set_option('future.no_silent_downcasting', True)`\n",
      "  unpivoted_df[\"CustomerCode\"] = unpivoted_df.groupby(\"ProductCode\")[\"CustomerCode\"].transform(lambda x: x.fillna(x.mode()[0]) if not x.mode().empty else x)\n",
      "/var/folders/r8/nhc1hq510sgf0m_19lwsv4qh0000gn/T/ipykernel_94808/3260781192.py:2: UserWarning: Unable to sort modes: '<' not supported between instances of 'str' and 'int'\n",
      "  unpivoted_df[\"CustomerCode\"] = unpivoted_df.groupby(\"ProductCode\")[\"CustomerCode\"].transform(lambda x: x.fillna(x.mode()[0]) if not x.mode().empty else x)\n",
      "/var/folders/r8/nhc1hq510sgf0m_19lwsv4qh0000gn/T/ipykernel_94808/3260781192.py:2: SettingWithCopyWarning: \n",
      "A value is trying to be set on a copy of a slice from a DataFrame.\n",
      "Try using .loc[row_indexer,col_indexer] = value instead\n",
      "\n",
      "See the caveats in the documentation: https://pandas.pydata.org/pandas-docs/stable/user_guide/indexing.html#returning-a-view-versus-a-copy\n",
      "  unpivoted_df[\"CustomerCode\"] = unpivoted_df.groupby(\"ProductCode\")[\"CustomerCode\"].transform(lambda x: x.fillna(x.mode()[0]) if not x.mode().empty else x)\n",
      "/var/folders/r8/nhc1hq510sgf0m_19lwsv4qh0000gn/T/ipykernel_94808/3260781192.py:5: FutureWarning: A value is trying to be set on a copy of a DataFrame or Series through chained assignment using an inplace method.\n",
      "The behavior will change in pandas 3.0. This inplace method will never work because the intermediate object on which we are setting values always behaves as a copy.\n",
      "\n",
      "For example, when doing 'df[col].method(value, inplace=True)', try using 'df.method({col: value}, inplace=True)' or df[col] = df[col].method(value) instead, to perform the operation inplace on the original object.\n",
      "\n",
      "\n",
      "  unpivoted_df[\"CustomerCode\"].fillna(\"Unknown\", inplace=True)\n",
      "/var/folders/r8/nhc1hq510sgf0m_19lwsv4qh0000gn/T/ipykernel_94808/3260781192.py:5: SettingWithCopyWarning: \n",
      "A value is trying to be set on a copy of a slice from a DataFrame\n",
      "\n",
      "See the caveats in the documentation: https://pandas.pydata.org/pandas-docs/stable/user_guide/indexing.html#returning-a-view-versus-a-copy\n",
      "  unpivoted_df[\"CustomerCode\"].fillna(\"Unknown\", inplace=True)\n"
     ]
    }
   ],
   "source": [
    "# Fill missing CustomerCodes using most frequent CustomerCode for the same ProductCode\n",
    "unpivoted_df[\"CustomerCode\"] = unpivoted_df.groupby(\"ProductCode\")[\"CustomerCode\"].transform(lambda x: x.fillna(x.mode()[0]) if not x.mode().empty else x)\n",
    "\n",
    "# If still missing, set to \"Unknown\"\n",
    "unpivoted_df[\"CustomerCode\"].fillna(\"Unknown\", inplace=True)\n"
   ]
  },
  {
   "cell_type": "code",
   "execution_count": 613,
   "id": "95de45f2-cb59-422d-8055-8dedde1bca3e",
   "metadata": {},
   "outputs": [
    {
     "name": "stdout",
     "output_type": "stream",
     "text": [
      "['PL' 'Branded']\n"
     ]
    },
    {
     "name": "stderr",
     "output_type": "stream",
     "text": [
      "/var/folders/r8/nhc1hq510sgf0m_19lwsv4qh0000gn/T/ipykernel_94808/4213767037.py:2: SettingWithCopyWarning: \n",
      "A value is trying to be set on a copy of a slice from a DataFrame.\n",
      "Try using .loc[row_indexer,col_indexer] = value instead\n",
      "\n",
      "See the caveats in the documentation: https://pandas.pydata.org/pandas-docs/stable/user_guide/indexing.html#returning-a-view-versus-a-copy\n",
      "  unpivoted_df[\"ProductCategory\"] = unpivoted_df[\"ProductCategory\"].replace({\"Private Label\": \"PL\"})\n"
     ]
    }
   ],
   "source": [
    "# Replace \"Private Label\" with \"PL\" in the ProductCategory column\n",
    "unpivoted_df[\"ProductCategory\"] = unpivoted_df[\"ProductCategory\"].replace({\"Private Label\": \"PL\"})\n",
    "\n",
    "# Verify the change\n",
    "print(unpivoted_df[\"ProductCategory\"].unique())\n"
   ]
  },
  {
   "cell_type": "code",
   "execution_count": 629,
   "id": "dae98ccc-8ace-47cd-b1bd-0f9b12c93a4e",
   "metadata": {},
   "outputs": [
    {
     "name": "stdout",
     "output_type": "stream",
     "text": [
      "Year                       object\n",
      "MonthNum                    int64\n",
      "Month                      object\n",
      "MonthDate          datetime64[ns]\n",
      "Business                   object\n",
      "Channel                    object\n",
      "CustomerCode               object\n",
      "ProductCode                object\n",
      "ProductCategory            object\n",
      "ProductGroup               object\n",
      "Cases                      object\n",
      "Dollars                    object\n",
      "dtype: object\n"
     ]
    }
   ],
   "source": [
    "# Step 5: Verify Data Types & Convert Where Necessary\n",
    "data_types_before = unpivoted_df.dtypes\n",
    "print(data_types_before)"
   ]
  },
  {
   "cell_type": "code",
   "execution_count": 628,
   "id": "2d658e45-d85d-45aa-b06d-2c4fddf8bd35",
   "metadata": {},
   "outputs": [
    {
     "data": {
      "text/plain": [
       "<bound method NDFrame.head of        Year  MonthNum    Month  MonthDate    Business       Channel  \\\n",
       "1      2021         1  Jan '21 2021-01-01  Business A        Retail   \n",
       "3      2021         1  Jan '21 2021-01-01  Business A        Retail   \n",
       "5      2021         1  Jan '21 2021-01-01  Business A        Retail   \n",
       "7      2021         1  Jan '21 2021-01-01  Business A        Retail   \n",
       "9      2021         1  Jan '21 2021-01-01  Business A        Retail   \n",
       "...     ...       ...      ...        ...         ...           ...   \n",
       "42470  2021        12  Dec '21 2021-12-01  Business A  Food Service   \n",
       "42472  2021        12  Dec '21 2021-12-01  Business A  Food Service   \n",
       "42474  2021        12  Dec '21 2021-12-01  Business A  Food Service   \n",
       "42476  2021        12  Dec '21 2021-12-01  Business A  Food Service   \n",
       "42478  2021        12  Dec '21 2021-12-01  Business A  Food Service   \n",
       "\n",
       "      CustomerCode ProductCode ProductCategory ProductGroup     Cases  \\\n",
       "1           761644       53672              PL     Crackers      3960   \n",
       "3           760394       53672              PL     Crackers    3326.4   \n",
       "5           793483       53672              PL     Crackers    1425.6   \n",
       "7           760401       53672              PL     Crackers    9028.8   \n",
       "9           793480       53672              PL     Crackers    8236.8   \n",
       "...            ...         ...             ...          ...       ...   \n",
       "42470       793753       50040         Branded      Cookies    202384   \n",
       "42472       793756       50040         Branded      Cookies  128358.6   \n",
       "42474       800224       50040         Branded      Cookies     33852   \n",
       "42476       900009       50015         Branded      Cookies  103812.8   \n",
       "42478       900009       50040         Branded      Cookies  103812.8   \n",
       "\n",
       "            Dollars  \n",
       "1             40392  \n",
       "3          33929.28  \n",
       "5          14541.12  \n",
       "7          92093.76  \n",
       "9          84015.36  \n",
       "...             ...  \n",
       "42470  13902.666667  \n",
       "42472         10000  \n",
       "42474          2800  \n",
       "42476          8587  \n",
       "42478          8587  \n",
       "\n",
       "[9802 rows x 12 columns]>"
      ]
     },
     "execution_count": 628,
     "metadata": {},
     "output_type": "execute_result"
    }
   ],
   "source": [
    "unpivoted_df.head"
   ]
  },
  {
   "cell_type": "code",
   "execution_count": 624,
   "id": "2f48489d-486d-460c-9c33-44835e8593d3",
   "metadata": {},
   "outputs": [
    {
     "name": "stderr",
     "output_type": "stream",
     "text": [
      "/var/folders/r8/nhc1hq510sgf0m_19lwsv4qh0000gn/T/ipykernel_94808/3645102631.py:2: SettingWithCopyWarning: \n",
      "A value is trying to be set on a copy of a slice from a DataFrame.\n",
      "Try using .loc[row_indexer,col_indexer] = value instead\n",
      "\n",
      "See the caveats in the documentation: https://pandas.pydata.org/pandas-docs/stable/user_guide/indexing.html#returning-a-view-versus-a-copy\n",
      "  unpivoted_df['Year'] = unpivoted_df['Month'].apply(lambda x: \"20\" + x.split(\"'\")[1].strip())\n",
      "/var/folders/r8/nhc1hq510sgf0m_19lwsv4qh0000gn/T/ipykernel_94808/3645102631.py:5: SettingWithCopyWarning: \n",
      "A value is trying to be set on a copy of a slice from a DataFrame.\n",
      "Try using .loc[row_indexer,col_indexer] = value instead\n",
      "\n",
      "See the caveats in the documentation: https://pandas.pydata.org/pandas-docs/stable/user_guide/indexing.html#returning-a-view-versus-a-copy\n",
      "  unpivoted_df['MonthName'] = unpivoted_df['Month'].apply(lambda x: x.split(\"'\")[0].strip())\n",
      "/var/folders/r8/nhc1hq510sgf0m_19lwsv4qh0000gn/T/ipykernel_94808/3645102631.py:8: SettingWithCopyWarning: \n",
      "A value is trying to be set on a copy of a slice from a DataFrame.\n",
      "Try using .loc[row_indexer,col_indexer] = value instead\n",
      "\n",
      "See the caveats in the documentation: https://pandas.pydata.org/pandas-docs/stable/user_guide/indexing.html#returning-a-view-versus-a-copy\n",
      "  unpivoted_df['MonthDate'] = pd.to_datetime(\n"
     ]
    }
   ],
   "source": [
    "# Cleaner way to extract the year\n",
    "unpivoted_df['Year'] = unpivoted_df['Month'].apply(lambda x: \"20\" + x.split(\"'\")[1].strip())\n",
    "\n",
    "# Extract Month Name (just the month part like \"Jan\")\n",
    "unpivoted_df['MonthName'] = unpivoted_df['Month'].apply(lambda x: x.split(\"'\")[0].strip())\n",
    "\n",
    "# Create MonthDate as a proper date\n",
    "unpivoted_df['MonthDate'] = pd.to_datetime(\n",
    "    unpivoted_df['Year'].astype(str) + '-' + \n",
    "    unpivoted_df['MonthNum'].astype(str).str.zfill(2) + '-01'\n",
    ")"
   ]
  },
  {
   "cell_type": "code",
   "execution_count": 627,
   "id": "54686724-19f5-4d11-bea9-e834ae4399eb",
   "metadata": {},
   "outputs": [
    {
     "name": "stdout",
     "output_type": "stream",
     "text": [
      "   Year  MonthNum    Month  MonthDate    Business Channel CustomerCode  \\\n",
      "1  2021         1  Jan '21 2021-01-01  Business A  Retail       761644   \n",
      "3  2021         1  Jan '21 2021-01-01  Business A  Retail       760394   \n",
      "5  2021         1  Jan '21 2021-01-01  Business A  Retail       793483   \n",
      "7  2021         1  Jan '21 2021-01-01  Business A  Retail       760401   \n",
      "9  2021         1  Jan '21 2021-01-01  Business A  Retail       793480   \n",
      "\n",
      "  ProductCode ProductCategory ProductGroup   Cases   Dollars  \n",
      "1       53672              PL     Crackers    3960     40392  \n",
      "3       53672              PL     Crackers  3326.4  33929.28  \n",
      "5       53672              PL     Crackers  1425.6  14541.12  \n",
      "7       53672              PL     Crackers  9028.8  92093.76  \n",
      "9       53672              PL     Crackers  8236.8  84015.36  \n"
     ]
    }
   ],
   "source": [
    "# Define the new column order\n",
    "new_column_order = [\n",
    "    \"Year\",\"MonthNum\", \"Month\",\"MonthDate\", \"Business\", \"Channel\",\"CustomerCode\",\"ProductCode\",\n",
    "    \"ProductCategory\", \"ProductGroup\",\"Cases\",\"Dollars\"]\n",
    "\n",
    "# Reorder the columns\n",
    "unpivoted_df = unpivoted_df[new_column_order]\n",
    "\n",
    "# Verify the new order\n",
    "print(unpivoted_df.head())"
   ]
  },
  {
   "cell_type": "code",
   "execution_count": null,
   "id": "9b1e638b-3b46-4be6-9662-d06695005c94",
   "metadata": {},
   "outputs": [],
   "source": [
    "#Changing data types"
   ]
  },
  {
   "cell_type": "code",
   "execution_count": 632,
   "id": "125737c8-6f59-4599-b911-c5c57d06a5a3",
   "metadata": {},
   "outputs": [
    {
     "name": "stdout",
     "output_type": "stream",
     "text": [
      "   Year  MonthNumber    Month  MonthDate    Business Channel CustomerCode  \\\n",
      "1  2021            1  Jan '21 2021-01-01  Business A  Retail       761644   \n",
      "3  2021            1  Jan '21 2021-01-01  Business A  Retail       760394   \n",
      "5  2021            1  Jan '21 2021-01-01  Business A  Retail       793483   \n",
      "7  2021            1  Jan '21 2021-01-01  Business A  Retail       760401   \n",
      "9  2021            1  Jan '21 2021-01-01  Business A  Retail       793480   \n",
      "\n",
      "  ProductCode ProductCategory ProductGroup Budgeted_Boxes Budgeted_Revenue  \n",
      "1       53672              PL     Crackers           3960            40392  \n",
      "3       53672              PL     Crackers         3326.4         33929.28  \n",
      "5       53672              PL     Crackers         1425.6         14541.12  \n",
      "7       53672              PL     Crackers         9028.8         92093.76  \n",
      "9       53672              PL     Crackers         8236.8         84015.36  \n"
     ]
    }
   ],
   "source": [
    "print(unpivoted_df.head())"
   ]
  },
  {
   "cell_type": "code",
   "execution_count": 631,
   "id": "8eddffd1-0100-4cc6-ba5c-91e71839c831",
   "metadata": {},
   "outputs": [],
   "source": [
    "# Rename specific columns using a dictionary\n",
    "unpivoted_df = unpivoted_df.rename(columns={\n",
    "    'MonthNum': 'MonthNumber',\n",
    "    'Cases': 'Budgeted_Boxes',\n",
    "    'Dollars': 'Budgeted_Revenue',\n",
    "})"
   ]
  },
  {
   "cell_type": "code",
   "execution_count": 633,
   "id": "0395c86c-f5c2-4718-9b63-4c6afee17806",
   "metadata": {},
   "outputs": [
    {
     "name": "stdout",
     "output_type": "stream",
     "text": [
      "Year                         int32\n",
      "MonthNumber                  int32\n",
      "Month               string[python]\n",
      "MonthDate           datetime64[ns]\n",
      "Business                  category\n",
      "Channel                   category\n",
      "CustomerCode              category\n",
      "ProductCode               category\n",
      "ProductCategory           category\n",
      "ProductGroup              category\n",
      "Budgeted_Boxes               int32\n",
      "Budgeted_Revenue           float32\n",
      "dtype: object\n"
     ]
    }
   ],
   "source": [
    "# Define optimal data types for each column\n",
    "data_type_mapping = {\n",
    "    \"CustomerCode\": \"category\",  # Categorical data\n",
    "    \"ProductCode\": \"category\",  # Categorical data\n",
    "    \"ProductCategory\": \"category\",  # Branded vs. Private Label\n",
    "    \"Budgeted_Boxes\": \"int32\",  # Integer values for quantity\n",
    "    \"Budgeted_Revenue\": \"float32\",\n",
    "    \"Business\": \"category\",\n",
    "    \"ProductGroup\": \"category\", \n",
    "    \"Channel\": \"category\",\n",
    "    \"Month\":\"string\",\n",
    "    \"Year\":\"int32\",\n",
    "    \"MonthNumber\":\"int32\",\n",
    "    # Monetary values\n",
    "    \n",
    "}\n",
    "\n",
    "# Apply data type conversions\n",
    "for col, dtype in data_type_mapping.items():\n",
    "    if col in unpivoted_df.columns:\n",
    "        unpivoted_df[col] = unpivoted_df[col].astype(dtype, errors=\"ignore\")\n",
    "\n",
    "# Verify updated data types\n",
    "print(unpivoted_df.dtypes)\n"
   ]
  },
  {
   "cell_type": "code",
   "execution_count": 634,
   "id": "0dcbf3fa-8af9-4ad2-beee-cb9c72cce4a4",
   "metadata": {},
   "outputs": [],
   "source": [
    "unpivoted_df.to_csv(\"Fact_Budget.csv\", index=False)"
   ]
  }
 ],
 "metadata": {
  "kernelspec": {
   "display_name": "Python 3 (ipykernel)",
   "language": "python",
   "name": "python3"
  },
  "language_info": {
   "codemirror_mode": {
    "name": "ipython",
    "version": 3
   },
   "file_extension": ".py",
   "mimetype": "text/x-python",
   "name": "python",
   "nbconvert_exporter": "python",
   "pygments_lexer": "ipython3",
   "version": "3.13.2"
  }
 },
 "nbformat": 4,
 "nbformat_minor": 5
}
